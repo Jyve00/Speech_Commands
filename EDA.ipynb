{
 "cells": [
  {
   "cell_type": "markdown",
   "metadata": {},
   "source": [
    "# EDA \n",
    "explore datasets and make dataframes containing metadata for each set if one is not provided "
   ]
  },
  {
   "cell_type": "code",
   "execution_count": 33,
   "metadata": {},
   "outputs": [],
   "source": [
    "import pandas as pd\n",
    "import os \n",
    "import matplotlib.pyplot as plt \n",
    "import numpy as np\n",
    "from matplotlib import colors\n",
    "from matplotlib.ticker import PercentFormatter\n",
    "import seaborn as sns \n",
    "import torch \n",
    "import torchaudio \n"
   ]
  },
  {
   "cell_type": "markdown",
   "metadata": {},
   "source": [
    "# AVSP-ESD Dataset \n",
    "\n",
    "source: https://www.kaggle.com/dejolilandry/asvpesdspeech-nonspeech-emotional-utterances\n"
   ]
  },
  {
   "cell_type": "markdown",
   "metadata": {},
   "source": [
    "# Data Preperation \n",
    "Since the dataset didnt come with a CSV file containing the metadata we'll create a dataframe that contains the Path to the Wav file and it Class which is what emotion it has been labeled as. "
   ]
  },
  {
   "cell_type": "markdown",
   "metadata": {},
   "source": [
    "Taken from the Kaggle Dataset Descri\n",
    "\n",
    "Each wav file in the dataset consists of numerical identifiers. \n",
    "\n",
    "Filename identifiers:\n",
    "Modality ( 03 = audio-only).\n",
    "Vocal channel on s(01 = speech, 02 = npeech).\n",
    "Emotion ( 01 = boredom, 02 = neutral, 03 = happy, 04 = sad, 05 = angry, 06 = fearful, 07 = disgust, 08 = surprised, 09 = excited, 10 = pleasure, 11 = pain, 12 = disappointment, 13 = others).\n",
    "Emotional intensity (01 = normal, 02 = high).\n",
    "Statement (as it’s non scripted this refer to the number of sample select per actor folder ).\n",
    "Actor ( even numbered acteurs are male, odd numbered actors are female).\n",
    "Age(01 = above 65, 02 = between 20~64, 03 = under 20,04=new born).\n",
    "Source of downloading (01 =website , 02 = youtube channel, 03= movies).\n",
    "Language(01=Chinese , 02=English ,04 = french , others).\n"
   ]
  },
  {
   "cell_type": "code",
   "execution_count": 2,
   "metadata": {},
   "outputs": [],
   "source": [
    "asvp_labels_dict = {\n",
    "    1: 'boredom', \n",
    "    2: 'neutral',\n",
    "    3: 'happy',\n",
    "    4: 'sad',\n",
    "    5: 'angry',\n",
    "    6: 'fearful',\n",
    "    7: 'disgust', \n",
    "    8: 'surprised',\n",
    "    9: 'excited', \n",
    "    10: 'pleasure',\n",
    "    11: 'pain', \n",
    "    12: 'disappointment', \n",
    "    13: 'others'\n",
    "}"
   ]
  },
  {
   "cell_type": "markdown",
   "metadata": {},
   "source": [
    "So by taking a look at how the data is labeled we can decide how to make classification for our problem. Lets start simple and just use the Emotion label. Later we can try classifying other labels like age and gender. We'll also only use files labeled as speech, later we'll use the non speech files for data augmentation but more on that later. for now lets make a list "
   ]
  },
  {
   "cell_type": "code",
   "execution_count": 3,
   "metadata": {},
   "outputs": [
    {
     "name": "stdout",
     "output_type": "stream",
     "text": [
      "['03', '01', '02', '01', '06', '13', '02', '03', '01']\n"
     ]
    }
   ],
   "source": [
    "# lets practice taking the path strings apart \n",
    "ster = \"/Users/stephen/Desktop/Speech_Recognition/Data/ASVP-ESD_UPDATE/Audio/actor_13/03-01-02-01-06-13-02-03-01.wav\"\n",
    "part = ster.split('/')[-1]\n",
    "part = part.split('.')[0]\n",
    "part = part.split('-')\n",
    "print(part)"
   ]
  },
  {
   "cell_type": "code",
   "execution_count": 4,
   "metadata": {},
   "outputs": [
    {
     "name": "stdout",
     "output_type": "stream",
     "text": [
      "actor_16\n",
      "actor_29\n",
      "actor_11\n",
      "actor_27\n",
      "actor_18\n",
      "actor_20\n",
      "actor_74\n",
      "actor_80\n",
      "actor_87\n",
      "actor_73\n",
      "actor_103\n",
      "actor_45\n",
      "actor_89\n",
      "actor_42\n",
      "actor_104\n",
      "actor_21\n",
      "actor_26\n",
      "actor_19\n",
      "actor_10\n",
      "actor_17\n",
      "actor_28\n",
      "actor_88\n",
      "actor_105\n",
      "actor_43\n",
      "actor_44\n",
      "actor_102\n",
      "actor_72\n",
      "actor_86\n",
      "actor_81\n",
      "actor_75\n",
      "actor_5\n",
      "actor_2\n",
      ".DS_Store\n",
      "actor_3\n",
      "actor_4\n",
      "actor_57\n",
      "actor_68\n",
      "actor_50\n",
      "actor_66\n",
      "actor_59\n",
      "actor_61\n",
      "actor_35\n",
      "actor_32\n",
      "actor_60\n",
      "actor_67\n",
      "actor_58\n",
      "actor_51\n",
      "actor_56\n",
      "actor_69\n",
      "actor_33\n",
      "actor_34\n",
      "actor_84\n",
      "actor_70\n",
      "actor_48\n",
      "actor_77\n",
      "actor_83\n",
      "actor_41\n",
      "actor_79\n",
      "actor_100\n",
      "actor_46\n",
      "actor_12\n",
      "actor_15\n",
      "actor_23\n",
      "actor_24\n",
      "actor_78\n",
      "actor_47\n",
      "actor_101\n",
      "actor_106\n",
      "actor_40\n",
      "actor_49\n",
      "actor_82\n",
      "actor_76\n",
      "actor_71\n",
      "actor_85\n",
      "actor_25\n",
      "actor_22\n",
      "actor_14\n",
      "actor_13\n",
      "actor_1\n",
      "actor_6\n",
      "actor_8\n",
      "actor_9\n",
      "actor_7\n",
      "actor_0\n",
      "actor_31\n",
      "actor_36\n",
      "actor_38\n",
      "actor_53\n",
      "actor_54\n",
      "actor_62\n",
      "actor_65\n",
      "actor_91\n",
      "actor_39\n",
      "actor_37\n",
      "actor_30\n",
      "actor_90\n",
      "actor_64\n",
      "actor_63\n",
      "actor_55\n",
      "actor_52\n"
     ]
    }
   ],
   "source": [
    "# take a look at all the folders  \n",
    "\n",
    "# string representing PATH for folder containing data\n",
    "asvp_audio_path = '/Users/stephen/Desktop/Speech_Recognition/Data/ASVP-ESD_UPDATE/Audio/'\n",
    "\n",
    "# the dataset is organized into folders for each actor/actress. the listdir method will list all contained folders \n",
    "asvp_dir_list = os.listdir(asvp_audio_path)\n",
    "\n",
    "# iterate through files and \n",
    "for dir in asvp_dir_list:\n",
    "    print(dir)\n",
    "\n"
   ]
  },
  {
   "cell_type": "markdown",
   "metadata": {},
   "source": [
    "you might not be able to see it from the long list of folders but DS_Store shows up and will cause an error if it is not delt with properly. We'll simply add a  conditional in the following function that will ignore the DS_Store file. "
   ]
  },
  {
   "cell_type": "code",
   "execution_count": 5,
   "metadata": {},
   "outputs": [
    {
     "name": "stdout",
     "output_type": "stream",
     "text": [
      "actor_16\n",
      "actor_29\n",
      "actor_11\n",
      "actor_27\n",
      "actor_18\n",
      "actor_20\n",
      "actor_74\n",
      "actor_80\n",
      "actor_87\n",
      "actor_73\n",
      "actor_103\n",
      "actor_45\n",
      "actor_89\n",
      "actor_42\n",
      "actor_104\n",
      "actor_21\n",
      "actor_26\n",
      "actor_19\n",
      "actor_10\n",
      "actor_17\n",
      "actor_28\n",
      "actor_88\n",
      "actor_105\n",
      "actor_43\n",
      "actor_44\n",
      "actor_102\n",
      "actor_72\n",
      "actor_86\n",
      "actor_81\n",
      "actor_75\n",
      "actor_5\n",
      "actor_2\n",
      "actor_3\n",
      "actor_4\n",
      "actor_57\n",
      "actor_68\n",
      "actor_50\n",
      "actor_66\n",
      "actor_59\n",
      "actor_61\n",
      "actor_35\n",
      "actor_32\n",
      "actor_60\n",
      "actor_67\n",
      "actor_58\n",
      "actor_51\n",
      "actor_56\n",
      "actor_69\n",
      "actor_33\n",
      "actor_34\n",
      "actor_84\n",
      "actor_70\n",
      "actor_48\n",
      "actor_77\n",
      "actor_83\n",
      "actor_41\n",
      "actor_79\n",
      "actor_100\n",
      "actor_46\n",
      "actor_12\n",
      "actor_15\n",
      "actor_23\n",
      "actor_24\n",
      "actor_78\n",
      "actor_47\n",
      "actor_101\n",
      "actor_106\n",
      "actor_40\n",
      "actor_49\n",
      "actor_82\n",
      "actor_76\n",
      "actor_71\n",
      "actor_85\n",
      "actor_25\n",
      "actor_22\n",
      "actor_14\n",
      "actor_13\n",
      "actor_1\n",
      "actor_6\n",
      "actor_8\n",
      "actor_9\n",
      "actor_7\n",
      "actor_0\n",
      "actor_31\n",
      "actor_36\n",
      "actor_38\n",
      "actor_53\n",
      "actor_54\n",
      "actor_62\n",
      "actor_65\n",
      "actor_91\n",
      "actor_39\n",
      "actor_37\n",
      "actor_30\n",
      "actor_90\n",
      "actor_64\n",
      "actor_63\n",
      "actor_55\n",
      "actor_52\n"
     ]
    }
   ],
   "source": [
    "for dir in asvp_dir_list:\n",
    "    if dir != \".DS_Store\":\n",
    "        print(dir)"
   ]
  },
  {
   "cell_type": "code",
   "execution_count": 6,
   "metadata": {},
   "outputs": [
    {
     "data": {
      "text/plain": [
       "135838"
      ]
     },
     "execution_count": 6,
     "metadata": {},
     "output_type": "execute_result"
    }
   ],
   "source": [
    "test_path = '/Users/stephen/Desktop/Speech_Recognition/Data/ASVP-ESD_UPDATE/Audio/actor_8/03-01-02-01-05-08-02-03-01-03.wav'\n",
    "\n",
    "test_info = torchaudio.info(test_path)\n",
    "this = test_info.num_frames\n",
    "\n",
    "this"
   ]
  },
  {
   "cell_type": "code",
   "execution_count": 26,
   "metadata": {},
   "outputs": [
    {
     "data": {
      "text/html": [
       "<div>\n",
       "<style scoped>\n",
       "    .dataframe tbody tr th:only-of-type {\n",
       "        vertical-align: middle;\n",
       "    }\n",
       "\n",
       "    .dataframe tbody tr th {\n",
       "        vertical-align: top;\n",
       "    }\n",
       "\n",
       "    .dataframe thead th {\n",
       "        text-align: right;\n",
       "    }\n",
       "</style>\n",
       "<table border=\"1\" class=\"dataframe\">\n",
       "  <thead>\n",
       "    <tr style=\"text-align: right;\">\n",
       "      <th></th>\n",
       "      <th>Emotions</th>\n",
       "      <th>Folder</th>\n",
       "      <th>Filename</th>\n",
       "      <th>Sample_Rate</th>\n",
       "      <th>Num_Frames</th>\n",
       "      <th>Duration</th>\n",
       "    </tr>\n",
       "  </thead>\n",
       "  <tbody>\n",
       "    <tr>\n",
       "      <th>0</th>\n",
       "      <td>neutral</td>\n",
       "      <td>actor_16</td>\n",
       "      <td>/03-01-02-01-02-16-03-03-01.wav</td>\n",
       "      <td>16000</td>\n",
       "      <td>44305</td>\n",
       "      <td>2.769062</td>\n",
       "    </tr>\n",
       "    <tr>\n",
       "      <th>1</th>\n",
       "      <td>angry</td>\n",
       "      <td>actor_16</td>\n",
       "      <td>/03-01-05-02-07-16-03-03-01.wav</td>\n",
       "      <td>16000</td>\n",
       "      <td>96922</td>\n",
       "      <td>6.057625</td>\n",
       "    </tr>\n",
       "    <tr>\n",
       "      <th>2</th>\n",
       "      <td>neutral</td>\n",
       "      <td>actor_16</td>\n",
       "      <td>/03-01-02-01-13-16-03-03-01.wav</td>\n",
       "      <td>16000</td>\n",
       "      <td>58396</td>\n",
       "      <td>3.649750</td>\n",
       "    </tr>\n",
       "    <tr>\n",
       "      <th>3</th>\n",
       "      <td>neutral</td>\n",
       "      <td>actor_16</td>\n",
       "      <td>/03-01-02-01-05-16-03-03-01.wav</td>\n",
       "      <td>16000</td>\n",
       "      <td>13794</td>\n",
       "      <td>0.862125</td>\n",
       "    </tr>\n",
       "    <tr>\n",
       "      <th>4</th>\n",
       "      <td>angry</td>\n",
       "      <td>actor_16</td>\n",
       "      <td>/03-01-05-02-06-16-03-03-01.wav</td>\n",
       "      <td>16000</td>\n",
       "      <td>49738</td>\n",
       "      <td>3.108625</td>\n",
       "    </tr>\n",
       "  </tbody>\n",
       "</table>\n",
       "</div>"
      ],
      "text/plain": [
       "  Emotions    Folder                         Filename  Sample_Rate  \\\n",
       "0  neutral  actor_16  /03-01-02-01-02-16-03-03-01.wav        16000   \n",
       "1    angry  actor_16  /03-01-05-02-07-16-03-03-01.wav        16000   \n",
       "2  neutral  actor_16  /03-01-02-01-13-16-03-03-01.wav        16000   \n",
       "3  neutral  actor_16  /03-01-02-01-05-16-03-03-01.wav        16000   \n",
       "4    angry  actor_16  /03-01-05-02-06-16-03-03-01.wav        16000   \n",
       "\n",
       "   Num_Frames  Duration  \n",
       "0       44305  2.769062  \n",
       "1       96922  6.057625  \n",
       "2       58396  3.649750  \n",
       "3       13794  0.862125  \n",
       "4       49738  3.108625  "
      ]
     },
     "execution_count": 26,
     "metadata": {},
     "output_type": "execute_result"
    }
   ],
   "source": [
    "# string representing PATH for folder containing data\n",
    "asvp_audio_path = '/Users/stephen/Desktop/Speech_Recognition/Data/ASVP-ESD_UPDATE/Audio/'\n",
    "\n",
    "# the dataset is organized into folders for each actor/actress. the listdir method will list all contained folders \n",
    "asvp_dir_list = os.listdir(asvp_audio_path)\n",
    "\n",
    "\n",
    "file_emotion = []\n",
    "file_name = []\n",
    "file_fold = []\n",
    "file_sample_rate = []\n",
    "file_num_frames = []\n",
    "file_duration = []\n",
    "file_full_path = []\n",
    "\n",
    "\n",
    "\n",
    "# iterate through files and \n",
    "for dir in asvp_dir_list:\n",
    "    if dir != \".DS_Store\":\n",
    "    # extract contents from each folder \n",
    "        actor = os.listdir(asvp_audio_path + dir)\n",
    "    # go through each file in each folder \n",
    "        for file in actor: \n",
    "            part = file.split('.')[0] # ignore the .wav\n",
    "            part = part.split('-')\n",
    "            # the second part represents speech or non speech \n",
    "            if part[1] == '01': # 01 represents Speech \n",
    "                # third part represents emotion \n",
    "                file_emotion.append(int(part[2]))\n",
    "                file_name.append('/' + file)\n",
    "                file_fold.append(dir)\n",
    "\n",
    "                full_path = os.path.join(asvp_audio_path + str(dir) + '/' + str(file))\n",
    "                file_full_path.append(full_path)\n",
    "\n",
    "                info = torchaudio.info(full_path)\n",
    "\n",
    "                file_sample_rate.append(info.sample_rate)\n",
    "                file_num_frames.append(info.num_frames)\n",
    "\n",
    "                file_duration.append(info.num_frames / info.sample_rate)\n",
    "\n",
    "\n",
    "\n",
    "\n",
    "# dataframe for emotion of files \n",
    "emotion_df = pd.DataFrame(file_emotion, columns=['Emotions'])\n",
    "\n",
    "# dataframe for path of files \n",
    "name_df = pd.DataFrame(file_name, columns=['Filename'])\n",
    "\n",
    "# dataframe for names of folders \n",
    "fold_df = pd.DataFrame(file_fold, columns=['Folder'])\n",
    "\n",
    "# dataframe for sample rates \n",
    "sr_df = pd.DataFrame(file_sample_rate, columns=['Sample_Rate'])\n",
    "\n",
    "# dataframe for number of frames  \n",
    "frames_df = pd.DataFrame(file_num_frames, columns=['Num_Frames'])\n",
    "\n",
    "# dataframe for file duration \n",
    "duration_df = pd.DataFrame(file_duration, columns=['Duration'])\n",
    "\n",
    "asvp_metadata = pd.concat([emotion_df, fold_df, name_df, sr_df, frames_df, duration_df], axis=1)\n",
    "\n",
    "# change integers to actual emotions. \n",
    "asvp_metadata.Emotions.replace(asvp_labels_dict, inplace=True)\n",
    "asvp_metadata.head()"
   ]
  },
  {
   "cell_type": "code",
   "execution_count": 27,
   "metadata": {},
   "outputs": [
    {
     "data": {
      "text/plain": [
       "'/Users/stephen/Desktop/Speech_Recognition/Data/ASVP-ESD_UPDATE/Audio/actor_16/03-01-02-01-02-16-03-03-01.wav'"
      ]
     },
     "execution_count": 27,
     "metadata": {},
     "output_type": "execute_result"
    }
   ],
   "source": [
    "file_full_path[0]"
   ]
  },
  {
   "cell_type": "code",
   "execution_count": 28,
   "metadata": {},
   "outputs": [
    {
     "data": {
      "text/plain": [
       "tensor([[ 0.0000,  0.0000,  0.0000,  ...,  0.0114,  0.0099, -0.0018]])"
      ]
     },
     "execution_count": 28,
     "metadata": {},
     "output_type": "execute_result"
    }
   ],
   "source": [
    "ts, sr = torchaudio.load('/Users/stephen/Desktop/Speech_Recognition/Data/ASVP-ESD_UPDATE/Audio/actor_16/03-01-02-01-02-16-03-03-01.wav')\n",
    "ts"
   ]
  },
  {
   "cell_type": "code",
   "execution_count": 29,
   "metadata": {},
   "outputs": [
    {
     "name": "stdout",
     "output_type": "stream",
     "text": [
      "<class 'pandas.core.frame.DataFrame'>\n",
      "RangeIndex: 3946 entries, 0 to 3945\n",
      "Data columns (total 6 columns):\n",
      " #   Column       Non-Null Count  Dtype  \n",
      "---  ------       --------------  -----  \n",
      " 0   Emotions     3946 non-null   object \n",
      " 1   Folder       3946 non-null   object \n",
      " 2   Filename     3946 non-null   object \n",
      " 3   Sample_Rate  3946 non-null   int64  \n",
      " 4   Num_Frames   3946 non-null   int64  \n",
      " 5   Duration     3946 non-null   float64\n",
      "dtypes: float64(1), int64(2), object(3)\n",
      "memory usage: 185.1+ KB\n"
     ]
    }
   ],
   "source": [
    "asvp_metadata.info()"
   ]
  },
  {
   "cell_type": "code",
   "execution_count": 34,
   "metadata": {},
   "outputs": [
    {
     "data": {
      "text/plain": [
       "neutral           1019\n",
       "angry              987\n",
       "happy              495\n",
       "sad                471\n",
       "surprised          327\n",
       "disappointment     241\n",
       "fearful            137\n",
       "disgust             93\n",
       "excited             92\n",
       "pain                36\n",
       "boredom             26\n",
       "pleasure            22\n",
       "Name: Emotions, dtype: int64"
      ]
     },
     "execution_count": 34,
     "metadata": {},
     "output_type": "execute_result"
    }
   ],
   "source": [
    "asvp_metadata['Emotions'].value_counts()"
   ]
  },
  {
   "cell_type": "code",
   "execution_count": 41,
   "metadata": {},
   "outputs": [
    {
     "data": {
      "text/plain": [
       "count    3946.000000\n",
       "mean        6.275889\n",
       "std         3.610489\n",
       "min         0.379312\n",
       "25%         3.190766\n",
       "50%         6.000000\n",
       "75%         9.150063\n",
       "max        30.563312\n",
       "Name: Duration, dtype: float64"
      ]
     },
     "execution_count": 41,
     "metadata": {},
     "output_type": "execute_result"
    }
   ],
   "source": [
    "# Sanity check to make sure the Path Column contains the fill path \n",
    "asvp_metadata['Duration'].describe()"
   ]
  },
  {
   "cell_type": "code",
   "execution_count": 35,
   "metadata": {},
   "outputs": [
    {
     "name": "stderr",
     "output_type": "stream",
     "text": [
      "/Users/stephen/opt/anaconda3/envs/torch_env/lib/python3.9/site-packages/seaborn/_decorators.py:36: FutureWarning: Pass the following variable as a keyword arg: x. From version 0.12, the only valid positional argument will be `data`, and passing other arguments without an explicit keyword will result in an error or misinterpretation.\n",
      "  warnings.warn(\n"
     ]
    },
    {
     "data": {
      "image/png": "[encoded data removed]",
      "text/plain": [
       "<Figure size 432x288 with 1 Axes>"
      ]
     },
     "metadata": {
      "needs_background": "light"
     },
     "output_type": "display_data"
    }
   ],
   "source": [
    "plt.title('Count of Emotions', size=20)\n",
    "sns.countplot(asvp_metadata.Emotions)\n",
    "plt.ylabel('Count', size=12)\n",
    "plt.xlabel('Emotions', size=12)\n",
    "sns.despine(top=True, right=True, left=False, bottom=False)\n",
    "plt.show()"
   ]
  },
  {
   "cell_type": "markdown",
   "metadata": {},
   "source": [
    "# Duration of files \n",
    "all observations(in this case its the wav files) must be the same length when we input it into a Neural Network. lets take a look at the data so when it comes time for preprocessing we'll have info already"
   ]
  },
  {
   "cell_type": "code",
   "execution_count": 38,
   "metadata": {},
   "outputs": [
    {
     "data": {
      "text/plain": [
       "count    3946.000000\n",
       "mean        6.275889\n",
       "std         3.610489\n",
       "min         0.379312\n",
       "25%         3.190766\n",
       "50%         6.000000\n",
       "75%         9.150063\n",
       "max        30.563312\n",
       "Name: Duration, dtype: float64"
      ]
     },
     "execution_count": 38,
     "metadata": {},
     "output_type": "execute_result"
    }
   ],
   "source": [
    "asvp_metadata['Duration'].describe()"
   ]
  },
  {
   "cell_type": "code",
   "execution_count": 44,
   "metadata": {},
   "outputs": [
    {
     "data": {
      "text/plain": [
       "(array([1094., 1015.,  912.,  818.,   67.,   19.,   10.,    5.,    4.,\n",
       "           2.]),\n",
       " array([ 0.3793125,  3.3977125,  6.4161125,  9.4345125, 12.4529125,\n",
       "        15.4713125, 18.4897125, 21.5081125, 24.5265125, 27.5449125,\n",
       "        30.5633125]),\n",
       " <BarContainer object of 10 artists>)"
      ]
     },
     "execution_count": 44,
     "metadata": {},
     "output_type": "execute_result"
    },
    {
     "data": {
      "image/png": "[encoded data removed]",
      "text/plain": [
       "<Figure size 432x288 with 1 Axes>"
      ]
     },
     "metadata": {
      "needs_background": "light"
     },
     "output_type": "display_data"
    }
   ],
   "source": [
    "fig, ax = plt.subplots()\n",
    "ax.hist(asvp_metadata['Duration'], bins=10)"
   ]
  },
  {
   "cell_type": "code",
   "execution_count": 89,
   "metadata": {},
   "outputs": [
    {
     "data": {
      "image/png": "[encoded data removed]",
      "text/plain": [
       "<Figure size 432x288 with 1 Axes>"
      ]
     },
     "metadata": {
      "needs_background": "light"
     },
     "output_type": "display_data"
    }
   ],
   "source": [
    "mu = asvp_metadata['Duration'].mean()  # mean of distribution \n",
    "sigma = asvp_metadata['Duration'].std()  # standard deviation of distribution \n",
    "x = mu + sigma * asvp_metadata['Duration']\n",
    "\n",
    "num_bins = 1000\n",
    "\n",
    "fig, ax = plt.subplots()\n",
    "\n",
    "# histogram of data duration \n",
    "n, bins, patches = ax.hist(x, num_bins, density=1)\n",
    "\n",
    "# add a 'best fit' line\n",
    "y = ((1 / (np.sqrt(2 * np.pi) * sigma)) *\n",
    "     np.exp(-0.5 * (1 / sigma * (bins - mu))**2))\n",
    "ax.plot(bins, y, '--')\n",
    "ax.set_xlabel('Smarts')\n",
    "ax.set_ylabel('Probability density')\n",
    "ax.set_title(r'Histogram of IQ: $\\mu=100$, $\\sigma=15$')\n",
    "\n",
    "# Tweak spacing to prevent clipping of ylabel\n",
    "fig.tight_layout()\n",
    "plt.show()\n",
    "\n"
   ]
  },
  {
   "cell_type": "code",
   "execution_count": 74,
   "metadata": {},
   "outputs": [
    {
     "data": {
      "image/png": "[encoded data removed]",
      "text/plain": [
       "<Figure size 432x288 with 1 Axes>"
      ]
     },
     "metadata": {
      "needs_background": "light"
     },
     "output_type": "display_data"
    }
   ],
   "source": [
    "plt.hist(asvp_metadata['Duration'], bins=30, density=False, alpha=0.6, color='b')\n",
    "plt.xlabel('Duration in Seconds')\n",
    "plt.ylabel('Count')\n",
    "plt.title('Length of Wavfiles')\n",
    "plt.show()"
   ]
  },
  {
   "cell_type": "code",
   "execution_count": 80,
   "metadata": {},
   "outputs": [
    {
     "data": {
      "image/png": "[encoded data removed]",
      "text/plain": [
       "<Figure size 432x288 with 1 Axes>"
      ]
     },
     "metadata": {
      "needs_background": "light"
     },
     "output_type": "display_data"
    }
   ],
   "source": [
    "# Log scaled Histogram \n",
    "\n",
    "ytic = [range(0,30)]\n",
    "\n",
    "plt.hist(asvp_metadata['Duration'], bins=30, density=False, alpha=0.6, color='b', log=True)\n",
    "plt.xlabel('Duration in Seconds')\n",
    "plt.ylabel('Count')\n",
    "\n",
    "plt.title('Length of Wavfiles')\n",
    "plt.show()"
   ]
  },
  {
   "cell_type": "code",
   "execution_count": 68,
   "metadata": {},
   "outputs": [
    {
     "data": {
      "image/png": "[encoded data removed]",
      "text/plain": [
       "<Figure size 432x288 with 1 Axes>"
      ]
     },
     "metadata": {
      "needs_background": "light"
     },
     "output_type": "display_data"
    }
   ],
   "source": [
    "\n",
    "import numpy as np\n",
    "import matplotlib.pyplot as plt\n",
    "from scipy.stats import norm\n",
    "import statistics\n",
    "    \n",
    "# Plot between -30 and 30 with\n",
    "# 0.1 steps.\n",
    "x_axis = asvp_metadata['Duration']\n",
    "    \n",
    "# Calculating mean and standard \n",
    "# deviation\n",
    "mean = statistics.mean(x_axis)\n",
    "sd = statistics.stdev(x_axis)\n",
    "    \n",
    "plt.plot(x_axis, norm.pdf(x_axis, mean, sd))\n",
    "plt.show()"
   ]
  },
  {
   "cell_type": "code",
   "execution_count": 93,
   "metadata": {},
   "outputs": [
    {
     "name": "stdout",
     "output_type": "stream",
     "text": [
      "6.275888969842883 3.6104889269337215\n",
      "6.275888969842883 3.6100314107528395\n"
     ]
    }
   ],
   "source": [
    "mu = asvp_metadata['Duration'].mean()  # mean of distribution \n",
    "sigma = asvp_metadata['Duration'].std()  # standard deviation of distribution \n",
    "print(mu, sigma)\n",
    "mean = np.mean(asvp_metadata['Duration'])\n",
    "stan = np.std(asvp_metadata['Duration'])\n",
    "print(mean, stan)"
   ]
  },
  {
   "cell_type": "code",
   "execution_count": 96,
   "metadata": {},
   "outputs": [
    {
     "data": {
      "image/png": "[encoded data removed]",
      "text/plain": [
       "<Figure size 432x288 with 1 Axes>"
      ]
     },
     "metadata": {
      "needs_background": "light"
     },
     "output_type": "display_data"
    }
   ],
   "source": [
    "fig, ax = plt.subplots()\n",
    "\n",
    "asvp_metadata['Duration'].plot.hist(density=True, ax=ax)\n",
    "ax.set_ylabel('Probability')\n",
    "ax.grid(axis='y')\n",
    "ax.set_facecolor('#d8dcd6')"
   ]
  },
  {
   "cell_type": "code",
   "execution_count": 97,
   "metadata": {},
   "outputs": [
    {
     "data": {
      "text/plain": [
       "Text(-2.0, 0.35, '$f(x) = \\\\frac{\\\\exp(-x^2/2)}{\\\\sqrt{2*\\\\pi}}$')"
      ]
     },
     "execution_count": 97,
     "metadata": {},
     "output_type": "execute_result"
    },
    {
     "data": {
      "image/png": "[encoded data removed]",
      "text/plain": [
       "<Figure size 432x288 with 1 Axes>"
      ]
     },
     "metadata": {
      "needs_background": "light"
     },
     "output_type": "display_data"
    }
   ],
   "source": [
    "from scipy import stats \n",
    "\n",
    "dist = stats.norm()\n",
    "\n",
    "\n",
    "# `ppf()`: percent point function (inverse of cdf — percentiles).\n",
    "x = asvp_metadata['Duration']\n",
    "gkde = stats.gaussian_kde(dataset=asvp_metadata['Duration'])\n",
    "\n",
    "# `gkde.evaluate()` estimates the PDF itself.\n",
    "fig, ax = plt.subplots()\n",
    "ax.plot(x, dist.pdf(x), linestyle='solid', c='red', lw=3,\n",
    "        alpha=0.8, label='Analytical (True) PDF')\n",
    "ax.plot(x, gkde.evaluate(x), linestyle='dashed', c='black', lw=2,\n",
    "        label='PDF Estimated via KDE')\n",
    "ax.legend(loc='best', frameon=False)\n",
    "ax.set_title('Analytical vs. Estimated PDF')\n",
    "ax.set_ylabel('Probability')\n",
    "ax.text(-2., 0.35, r'$f(x) = \\frac{\\exp(-x^2/2)}{\\sqrt{2*\\pi}}$',\n",
    "        fontsize=12)"
   ]
  },
  {
   "cell_type": "code",
   "execution_count": 109,
   "metadata": {},
   "outputs": [
    {
     "data": {
      "text/plain": [
       "10.0    485\n",
       "2.0     426\n",
       "3.0     410\n",
       "6.0     355\n",
       "5.0     336\n",
       "7.0     332\n",
       "4.0     318\n",
       "8.0     289\n",
       "9.0     282\n",
       "1.0     276\n",
       "11.0    276\n",
       "12.0     52\n",
       "13.0     28\n",
       "14.0     20\n",
       "15.0     14\n",
       "0.0       7\n",
       "18.0      7\n",
       "16.0      7\n",
       "17.0      5\n",
       "20.0      4\n",
       "27.0      3\n",
       "19.0      3\n",
       "24.0      3\n",
       "23.0      2\n",
       "21.0      2\n",
       "25.0      1\n",
       "31.0      1\n",
       "30.0      1\n",
       "22.0      1\n",
       "Name: Duration, dtype: int64"
      ]
     },
     "execution_count": 109,
     "metadata": {},
     "output_type": "execute_result"
    }
   ],
   "source": [
    "asvp_metadata['Duration'].round().value_counts()"
   ]
  },
  {
   "cell_type": "code",
   "execution_count": 118,
   "metadata": {},
   "outputs": [
    {
     "data": {
      "image/png": "[encoded data removed]",
      "text/plain": [
       "<Figure size 432x288 with 1 Axes>"
      ]
     },
     "metadata": {
      "needs_background": "light"
     },
     "output_type": "display_data"
    }
   ],
   "source": [
    "plt.hist(asvp_metadata['Duration'].round(), bins=30, density=True, alpha=0.6, color='b')\n",
    "plt.xlabel('Duration in Seconds')\n",
    "plt.ylabel('Count')\n",
    "plt.title('Length of Wavfiles')\n",
    "plt.show()"
   ]
  },
  {
   "cell_type": "code",
   "execution_count": 117,
   "metadata": {},
   "outputs": [
    {
     "data": {
      "image/png": "[encoded data removed]",
      "text/plain": [
       "<Figure size 432x288 with 1 Axes>"
      ]
     },
     "metadata": {
      "needs_background": "light"
     },
     "output_type": "display_data"
    }
   ],
   "source": [
    "# Log scaled Histogram \n",
    "\n",
    "ytic = [range(0,30)]\n",
    "\n",
    "plt.hist(asvp_metadata['Duration'].round(), bins=30, density=False, alpha=0.6, color='b', log=True)\n",
    "plt.xlabel('Duration in Seconds')\n",
    "plt.ylabel('Count')\n",
    "\n",
    "plt.title('Length of Wavfiles')\n",
    "plt.show()"
   ]
  },
  {
   "cell_type": "code",
   "execution_count": 119,
   "metadata": {},
   "outputs": [
    {
     "data": {
      "text/plain": [
       "0        True\n",
       "1        True\n",
       "2        True\n",
       "3        True\n",
       "4        True\n",
       "        ...  \n",
       "3941    False\n",
       "3942    False\n",
       "3943    False\n",
       "3944    False\n",
       "3945     True\n",
       "Name: Duration, Length: 3946, dtype: bool"
      ]
     },
     "execution_count": 119,
     "metadata": {},
     "output_type": "execute_result"
    }
   ],
   "source": [
    "asvp_metadata['Duration'] <= 10.0"
   ]
  },
  {
   "cell_type": "code",
   "execution_count": 121,
   "metadata": {},
   "outputs": [
    {
     "data": {
      "text/html": [
       "<div>\n",
       "<style scoped>\n",
       "    .dataframe tbody tr th:only-of-type {\n",
       "        vertical-align: middle;\n",
       "    }\n",
       "\n",
       "    .dataframe tbody tr th {\n",
       "        vertical-align: top;\n",
       "    }\n",
       "\n",
       "    .dataframe thead th {\n",
       "        text-align: right;\n",
       "    }\n",
       "</style>\n",
       "<table border=\"1\" class=\"dataframe\">\n",
       "  <thead>\n",
       "    <tr style=\"text-align: right;\">\n",
       "      <th></th>\n",
       "      <th>Sample_Rate</th>\n",
       "      <th>Num_Frames</th>\n",
       "      <th>Duration</th>\n",
       "    </tr>\n",
       "  </thead>\n",
       "  <tbody>\n",
       "    <tr>\n",
       "      <th>count</th>\n",
       "      <td>3946.0</td>\n",
       "      <td>3946.000000</td>\n",
       "      <td>3946.000000</td>\n",
       "    </tr>\n",
       "    <tr>\n",
       "      <th>mean</th>\n",
       "      <td>16000.0</td>\n",
       "      <td>100414.223517</td>\n",
       "      <td>6.275889</td>\n",
       "    </tr>\n",
       "    <tr>\n",
       "      <th>std</th>\n",
       "      <td>0.0</td>\n",
       "      <td>57767.822831</td>\n",
       "      <td>3.610489</td>\n",
       "    </tr>\n",
       "    <tr>\n",
       "      <th>min</th>\n",
       "      <td>16000.0</td>\n",
       "      <td>6069.000000</td>\n",
       "      <td>0.379312</td>\n",
       "    </tr>\n",
       "    <tr>\n",
       "      <th>25%</th>\n",
       "      <td>16000.0</td>\n",
       "      <td>51052.250000</td>\n",
       "      <td>3.190766</td>\n",
       "    </tr>\n",
       "    <tr>\n",
       "      <th>50%</th>\n",
       "      <td>16000.0</td>\n",
       "      <td>96000.000000</td>\n",
       "      <td>6.000000</td>\n",
       "    </tr>\n",
       "    <tr>\n",
       "      <th>75%</th>\n",
       "      <td>16000.0</td>\n",
       "      <td>146401.000000</td>\n",
       "      <td>9.150063</td>\n",
       "    </tr>\n",
       "    <tr>\n",
       "      <th>max</th>\n",
       "      <td>16000.0</td>\n",
       "      <td>489013.000000</td>\n",
       "      <td>30.563312</td>\n",
       "    </tr>\n",
       "  </tbody>\n",
       "</table>\n",
       "</div>"
      ],
      "text/plain": [
       "       Sample_Rate     Num_Frames     Duration\n",
       "count       3946.0    3946.000000  3946.000000\n",
       "mean       16000.0  100414.223517     6.275889\n",
       "std            0.0   57767.822831     3.610489\n",
       "min        16000.0    6069.000000     0.379312\n",
       "25%        16000.0   51052.250000     3.190766\n",
       "50%        16000.0   96000.000000     6.000000\n",
       "75%        16000.0  146401.000000     9.150063\n",
       "max        16000.0  489013.000000    30.563312"
      ]
     },
     "execution_count": 121,
     "metadata": {},
     "output_type": "execute_result"
    }
   ],
   "source": [
    "asvp_metadata.describe()"
   ]
  },
  {
   "cell_type": "code",
   "execution_count": 125,
   "metadata": {},
   "outputs": [
    {
     "data": {
      "text/plain": [
       "neutral           1019\n",
       "angry              987\n",
       "happy              495\n",
       "sad                471\n",
       "surprised          327\n",
       "disappointment     241\n",
       "fearful            137\n",
       "disgust             93\n",
       "excited             92\n",
       "pain                36\n",
       "boredom             26\n",
       "pleasure            22\n",
       "Name: Emotions, dtype: int64"
      ]
     },
     "execution_count": 125,
     "metadata": {},
     "output_type": "execute_result"
    }
   ],
   "source": [
    "asvp_metadata['Emotions'].value_counts()"
   ]
  },
  {
   "cell_type": "code",
   "execution_count": 129,
   "metadata": {},
   "outputs": [],
   "source": [
    "asvp_metadata.to_csv('/Users/stephen/Desktop/Speech_Recognition/Data/ASVP-ESD_UPDATE/asvp_metadata.csv')"
   ]
  },
  {
   "cell_type": "markdown",
   "metadata": {},
   "source": [
    "# Sum of length for each label \n"
   ]
  },
  {
   "cell_type": "code",
   "execution_count": 134,
   "metadata": {},
   "outputs": [
    {
     "data": {
      "text/plain": [
       "Emotions\n",
       "neutral           6999.438375\n",
       "angry             6553.868875\n",
       "sad               3371.694937\n",
       "happy             2836.666187\n",
       "disappointment    2061.404625\n",
       "surprised         1003.466063\n",
       "fearful            590.392875\n",
       "excited            562.552000\n",
       "disgust            323.158625\n",
       "pain               237.229750\n",
       "boredom            125.697500\n",
       "pleasure            99.088063\n",
       "Name: Duration, dtype: float64"
      ]
     },
     "execution_count": 134,
     "metadata": {},
     "output_type": "execute_result"
    }
   ],
   "source": [
    "asvp_metadata.groupby(asvp_metadata['Emotions'])['Duration'].sum().sort_values(ascending=False)"
   ]
  },
  {
   "cell_type": "code",
   "execution_count": null,
   "metadata": {},
   "outputs": [],
   "source": []
  }
 ],
 "metadata": {
  "interpreter": {
   "hash": "f3358073929bd3d27ff594bc6528257efc4213b34ba9d7c6bd240dce3a23a83d"
  },
  "kernelspec": {
   "display_name": "Python 3.9.7 64-bit ('torch_env': conda)",
   "language": "python",
   "name": "python3"
  },
  "language_info": {
   "codemirror_mode": {
    "name": "ipython",
    "version": 3
   },
   "file_extension": ".py",
   "mimetype": "text/x-python",
   "name": "python",
   "nbconvert_exporter": "python",
   "pygments_lexer": "ipython3",
   "version": "3.9.7"
  },
  "orig_nbformat": 4
 },
 "nbformat": 4,
 "nbformat_minor": 2
}
