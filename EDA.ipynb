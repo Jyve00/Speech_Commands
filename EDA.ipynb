{
 "cells": [
  {
   "cell_type": "markdown",
   "metadata": {},
   "source": [
    "# EDA \n",
    "explore datasets and make dataframes containing metadata for each set if one is not provided "
   ]
  },
  {
   "cell_type": "code",
   "execution_count": 24,
   "metadata": {},
   "outputs": [],
   "source": [
    "import pandas as pd\n",
    "import os \n",
    "import matplotlib.pyplot as plt \n",
    "import seaborn as sns \n",
    "import torch \n",
    "import torchaudio \n"
   ]
  },
  {
   "cell_type": "markdown",
   "metadata": {},
   "source": [
    "# AVSP-ESD Dataset \n",
    "\n",
    "source: https://www.kaggle.com/dejolilandry/asvpesdspeech-nonspeech-emotional-utterances\n"
   ]
  },
  {
   "cell_type": "markdown",
   "metadata": {},
   "source": [
    "# Data Preperation \n",
    "Since the dataset didnt come with a CSV file containing the metadata we'll create a dataframe that contains the Path to the Wav file and it Class which is what emotion it has been labeled as. "
   ]
  },
  {
   "cell_type": "markdown",
   "metadata": {},
   "source": [
    "Taken from the Kaggle Dataset Descri\n",
    "\n",
    "Each wav file in the dataset consists of numerical identifiers. \n",
    "\n",
    "Filename identifiers:\n",
    "Modality ( 03 = audio-only).\n",
    "Vocal channel on s(01 = speech, 02 = npeech).\n",
    "Emotion ( 01 = boredom, 02 = neutral, 03 = happy, 04 = sad, 05 = angry, 06 = fearful, 07 = disgust, 08 = surprised, 09 = excited, 10 = pleasure, 11 = pain, 12 = disappointment, 13 = others).\n",
    "Emotional intensity (01 = normal, 02 = high).\n",
    "Statement (as it’s non scripted this refer to the number of sample select per actor folder ).\n",
    "Actor ( even numbered acteurs are male, odd numbered actors are female).\n",
    "Age(01 = above 65, 02 = between 20~64, 03 = under 20,04=new born).\n",
    "Source of downloading (01 =website , 02 = youtube channel, 03= movies).\n",
    "Language(01=Chinese , 02=English ,04 = french , others).\n"
   ]
  },
  {
   "cell_type": "code",
   "execution_count": 7,
   "metadata": {},
   "outputs": [],
   "source": [
    "asvp_labels_dict = {\n",
    "    1: 'boredom', \n",
    "    2: 'neutral',\n",
    "    3: 'happy',\n",
    "    4: 'sad',\n",
    "    5: 'angry',\n",
    "    6: 'fearful',\n",
    "    7: 'disgust', \n",
    "    8: 'surprised',\n",
    "    9: 'excited', \n",
    "    10: 'pleasure',\n",
    "    11: 'pain', \n",
    "    12: 'disappointment', \n",
    "    13: 'others'\n",
    "}"
   ]
  },
  {
   "cell_type": "markdown",
   "metadata": {},
   "source": [
    "So by taking a look at how the data is labeled we can decide how to make classification for our problem. Lets start simple and just use the Emotion label. Later we can try classifying other labels like age and gender. We'll also only use files labeled as speech, later we'll use the non speech files for data augmentation but more on that later. for now lets make a list "
   ]
  },
  {
   "cell_type": "code",
   "execution_count": 8,
   "metadata": {},
   "outputs": [
    {
     "name": "stdout",
     "output_type": "stream",
     "text": [
      "['03', '01', '02', '01', '06', '13', '02', '03', '01']\n"
     ]
    }
   ],
   "source": [
    "# lets practice taking the path strings apart \n",
    "ster = \"/Users/stephen/Desktop/Speech_Recognition/Data/ASVP-ESD_UPDATE/Audio/actor_13/03-01-02-01-06-13-02-03-01.wav\"\n",
    "part = ster.split('/')[-1]\n",
    "part = part.split('.')[0]\n",
    "part = part.split('-')\n",
    "print(part)"
   ]
  },
  {
   "cell_type": "code",
   "execution_count": 9,
   "metadata": {},
   "outputs": [
    {
     "name": "stdout",
     "output_type": "stream",
     "text": [
      "actor_16\n",
      "actor_29\n",
      "actor_11\n",
      "actor_27\n",
      "actor_18\n",
      "actor_20\n",
      "actor_74\n",
      "actor_80\n",
      "actor_87\n",
      "actor_73\n",
      "actor_103\n",
      "actor_45\n",
      "actor_89\n",
      "actor_42\n",
      "actor_104\n",
      "actor_21\n",
      "actor_26\n",
      "actor_19\n",
      "actor_10\n",
      "actor_17\n",
      "actor_28\n",
      "actor_88\n",
      "actor_105\n",
      "actor_43\n",
      "actor_44\n",
      "actor_102\n",
      "actor_72\n",
      "actor_86\n",
      "actor_81\n",
      "actor_75\n",
      "actor_5\n",
      "actor_2\n",
      ".DS_Store\n",
      "actor_3\n",
      "actor_4\n",
      "actor_57\n",
      "actor_68\n",
      "actor_50\n",
      "actor_66\n",
      "actor_59\n",
      "actor_61\n",
      "actor_35\n",
      "actor_32\n",
      "actor_60\n",
      "actor_67\n",
      "actor_58\n",
      "actor_51\n",
      "actor_56\n",
      "actor_69\n",
      "actor_33\n",
      "actor_34\n",
      "actor_84\n",
      "actor_70\n",
      "actor_48\n",
      "actor_77\n",
      "actor_83\n",
      "actor_41\n",
      "actor_79\n",
      "actor_100\n",
      "actor_46\n",
      "actor_12\n",
      "actor_15\n",
      "actor_23\n",
      "actor_24\n",
      "actor_78\n",
      "actor_47\n",
      "actor_101\n",
      "actor_106\n",
      "actor_40\n",
      "actor_49\n",
      "actor_82\n",
      "actor_76\n",
      "actor_71\n",
      "actor_85\n",
      "actor_25\n",
      "actor_22\n",
      "actor_14\n",
      "actor_13\n",
      "actor_1\n",
      "actor_6\n",
      "actor_8\n",
      "actor_9\n",
      "actor_7\n",
      "actor_0\n",
      "actor_31\n",
      "actor_36\n",
      "actor_38\n",
      "actor_53\n",
      "actor_54\n",
      "actor_62\n",
      "actor_65\n",
      "actor_91\n",
      "actor_39\n",
      "actor_37\n",
      "actor_30\n",
      "actor_90\n",
      "actor_64\n",
      "actor_63\n",
      "actor_55\n",
      "actor_52\n"
     ]
    }
   ],
   "source": [
    "# take a look at all the folders  \n",
    "\n",
    "# string representing PATH for folder containing data\n",
    "asvp_audio_path = '/Users/stephen/Desktop/Speech_Recognition/Data/ASVP-ESD_UPDATE/Audio/'\n",
    "\n",
    "# the dataset is organized into folders for each actor/actress. the listdir method will list all contained folders \n",
    "asvp_dir_list = os.listdir(asvp_audio_path)\n",
    "\n",
    "# iterate through files and \n",
    "for dir in asvp_dir_list:\n",
    "    print(dir)\n",
    "\n"
   ]
  },
  {
   "cell_type": "markdown",
   "metadata": {},
   "source": [
    "you might not be able to see it from the long list of folders but DS_Store shows up and will cause an error if it is not delt with properly. We'll simply add a  conditional in the following function that will ignore the DS_Store file. "
   ]
  },
  {
   "cell_type": "code",
   "execution_count": 10,
   "metadata": {},
   "outputs": [
    {
     "name": "stdout",
     "output_type": "stream",
     "text": [
      "actor_16\n",
      "actor_29\n",
      "actor_11\n",
      "actor_27\n",
      "actor_18\n",
      "actor_20\n",
      "actor_74\n",
      "actor_80\n",
      "actor_87\n",
      "actor_73\n",
      "actor_103\n",
      "actor_45\n",
      "actor_89\n",
      "actor_42\n",
      "actor_104\n",
      "actor_21\n",
      "actor_26\n",
      "actor_19\n",
      "actor_10\n",
      "actor_17\n",
      "actor_28\n",
      "actor_88\n",
      "actor_105\n",
      "actor_43\n",
      "actor_44\n",
      "actor_102\n",
      "actor_72\n",
      "actor_86\n",
      "actor_81\n",
      "actor_75\n",
      "actor_5\n",
      "actor_2\n",
      "actor_3\n",
      "actor_4\n",
      "actor_57\n",
      "actor_68\n",
      "actor_50\n",
      "actor_66\n",
      "actor_59\n",
      "actor_61\n",
      "actor_35\n",
      "actor_32\n",
      "actor_60\n",
      "actor_67\n",
      "actor_58\n",
      "actor_51\n",
      "actor_56\n",
      "actor_69\n",
      "actor_33\n",
      "actor_34\n",
      "actor_84\n",
      "actor_70\n",
      "actor_48\n",
      "actor_77\n",
      "actor_83\n",
      "actor_41\n",
      "actor_79\n",
      "actor_100\n",
      "actor_46\n",
      "actor_12\n",
      "actor_15\n",
      "actor_23\n",
      "actor_24\n",
      "actor_78\n",
      "actor_47\n",
      "actor_101\n",
      "actor_106\n",
      "actor_40\n",
      "actor_49\n",
      "actor_82\n",
      "actor_76\n",
      "actor_71\n",
      "actor_85\n",
      "actor_25\n",
      "actor_22\n",
      "actor_14\n",
      "actor_13\n",
      "actor_1\n",
      "actor_6\n",
      "actor_8\n",
      "actor_9\n",
      "actor_7\n",
      "actor_0\n",
      "actor_31\n",
      "actor_36\n",
      "actor_38\n",
      "actor_53\n",
      "actor_54\n",
      "actor_62\n",
      "actor_65\n",
      "actor_91\n",
      "actor_39\n",
      "actor_37\n",
      "actor_30\n",
      "actor_90\n",
      "actor_64\n",
      "actor_63\n",
      "actor_55\n",
      "actor_52\n"
     ]
    }
   ],
   "source": [
    "for dir in asvp_dir_list:\n",
    "    if dir != \".DS_Store\":\n",
    "        print(dir)"
   ]
  },
  {
   "cell_type": "code",
   "execution_count": 39,
   "metadata": {},
   "outputs": [
    {
     "data": {
      "text/plain": [
       "135838"
      ]
     },
     "execution_count": 39,
     "metadata": {},
     "output_type": "execute_result"
    }
   ],
   "source": [
    "test_path = '/Users/stephen/Desktop/Speech_Recognition/Data/ASVP-ESD_UPDATE/Audio/actor_8/03-01-02-01-05-08-02-03-01-03.wav'\n",
    "\n",
    "test_info = torchaudio.info(test_path)\n",
    "test_info.num_frames"
   ]
  },
  {
   "cell_type": "code",
   "execution_count": 45,
   "metadata": {},
   "outputs": [
    {
     "data": {
      "text/html": [
       "<div>\n",
       "<style scoped>\n",
       "    .dataframe tbody tr th:only-of-type {\n",
       "        vertical-align: middle;\n",
       "    }\n",
       "\n",
       "    .dataframe tbody tr th {\n",
       "        vertical-align: top;\n",
       "    }\n",
       "\n",
       "    .dataframe thead th {\n",
       "        text-align: right;\n",
       "    }\n",
       "</style>\n",
       "<table border=\"1\" class=\"dataframe\">\n",
       "  <thead>\n",
       "    <tr style=\"text-align: right;\">\n",
       "      <th></th>\n",
       "      <th>Emotions</th>\n",
       "      <th>Folder</th>\n",
       "      <th>Path</th>\n",
       "    </tr>\n",
       "  </thead>\n",
       "  <tbody>\n",
       "    <tr>\n",
       "      <th>0</th>\n",
       "      <td>neutral</td>\n",
       "      <td>actor_16</td>\n",
       "      <td>/03-01-02-01-02-16-03-03-01.wav</td>\n",
       "    </tr>\n",
       "    <tr>\n",
       "      <th>1</th>\n",
       "      <td>angry</td>\n",
       "      <td>actor_16</td>\n",
       "      <td>/03-01-05-02-07-16-03-03-01.wav</td>\n",
       "    </tr>\n",
       "    <tr>\n",
       "      <th>2</th>\n",
       "      <td>neutral</td>\n",
       "      <td>actor_16</td>\n",
       "      <td>/03-01-02-01-13-16-03-03-01.wav</td>\n",
       "    </tr>\n",
       "    <tr>\n",
       "      <th>3</th>\n",
       "      <td>neutral</td>\n",
       "      <td>actor_16</td>\n",
       "      <td>/03-01-02-01-05-16-03-03-01.wav</td>\n",
       "    </tr>\n",
       "    <tr>\n",
       "      <th>4</th>\n",
       "      <td>angry</td>\n",
       "      <td>actor_16</td>\n",
       "      <td>/03-01-05-02-06-16-03-03-01.wav</td>\n",
       "    </tr>\n",
       "  </tbody>\n",
       "</table>\n",
       "</div>"
      ],
      "text/plain": [
       "  Emotions    Folder                             Path\n",
       "0  neutral  actor_16  /03-01-02-01-02-16-03-03-01.wav\n",
       "1    angry  actor_16  /03-01-05-02-07-16-03-03-01.wav\n",
       "2  neutral  actor_16  /03-01-02-01-13-16-03-03-01.wav\n",
       "3  neutral  actor_16  /03-01-02-01-05-16-03-03-01.wav\n",
       "4    angry  actor_16  /03-01-05-02-06-16-03-03-01.wav"
      ]
     },
     "execution_count": 45,
     "metadata": {},
     "output_type": "execute_result"
    }
   ],
   "source": [
    "# string representing PATH for folder containing data\n",
    "asvp_audio_path = '/Users/stephen/Desktop/Speech_Recognition/Data/ASVP-ESD_UPDATE/Audio/'\n",
    "\n",
    "# the dataset is organized into folders for each actor/actress. the listdir method will list all contained folders \n",
    "asvp_dir_list = os.listdir(asvp_audio_path)\n",
    "\n",
    "\n",
    "file_emotion = []\n",
    "file_path = []\n",
    "file_fold = []\n",
    "file_sample_rate = []\n",
    "file_num_frames = []\n",
    "file_full_path = []\n",
    "\n",
    "\n",
    "\n",
    "# iterate through files and \n",
    "for dir in asvp_dir_list:\n",
    "    if dir != \".DS_Store\":\n",
    "    # extract contents from each folder \n",
    "        actor = os.listdir(asvp_audio_path + dir)\n",
    "    # go through each file in each folder \n",
    "        for file in actor: \n",
    "            part = file.split('.')[0] # ignore the .wav\n",
    "            part = part.split('-')\n",
    "            # the second part represents speech or non speech \n",
    "            if part[1] == '01': # 01 represents Speech \n",
    "                # third part represents emotion \n",
    "                file_emotion.append(int(part[2]))\n",
    "                file_path.append('/' + file)\n",
    "                file_fold.append(dir)\n",
    "\n",
    "                full_path = os.path.join(str(asvp_dir_list) + str(actor) + str(file))\n",
    "                file_full_path.append(full_path)\n",
    "\n",
    "\n",
    "\n",
    "# dataframe for emotion of files \n",
    "emotion_df = pd.DataFrame(file_emotion, columns=['Emotions'])\n",
    "\n",
    "# dataframe for path of files \n",
    "path_df = pd.DataFrame(file_path, columns=['Path'])\n",
    "\n",
    "# dataframe for names of folders \n",
    "fold_df = pd.DataFrame(file_fold, columns=['Folder'])\n",
    "\n",
    "asvp_metadata = pd.concat([emotion_df, fold_df, path_df], axis=1)\n",
    "\n",
    "# change integers to actual emotions. \n",
    "asvp_metadata.Emotions.replace(asvp_labels_dict, inplace=True)\n",
    "asvp_metadata.head()"
   ]
  },
  {
   "cell_type": "code",
   "execution_count": 47,
   "metadata": {},
   "outputs": [
    {
     "data": {
      "text/plain": [
       "\"['actor_16', 'actor_29', 'actor_11', 'actor_27', 'actor_18', 'actor_20', 'actor_74', 'actor_80', 'actor_87', 'actor_73', 'actor_103', 'actor_45', 'actor_89', 'actor_42', 'actor_104', 'actor_21', 'actor_26', 'actor_19', 'actor_10', 'actor_17', 'actor_28', 'actor_88', 'actor_105', 'actor_43', 'actor_44', 'actor_102', 'actor_72', 'actor_86', 'actor_81', 'actor_75', 'actor_5', 'actor_2', '.DS_Store', 'actor_3', 'actor_4', 'actor_57', 'actor_68', 'actor_50', 'actor_66', 'actor_59', 'actor_61', 'actor_35', 'actor_32', 'actor_60', 'actor_67', 'actor_58', 'actor_51', 'actor_56', 'actor_69', 'actor_33', 'actor_34', 'actor_84', 'actor_70', 'actor_48', 'actor_77', 'actor_83', 'actor_41', 'actor_79', 'actor_100', 'actor_46', 'actor_12', 'actor_15', 'actor_23', 'actor_24', 'actor_78', 'actor_47', 'actor_101', 'actor_106', 'actor_40', 'actor_49', 'actor_82', 'actor_76', 'actor_71', 'actor_85', 'actor_25', 'actor_22', 'actor_14', 'actor_13', 'actor_1', 'actor_6', 'actor_8', 'actor_9', 'actor_7', 'actor_0', 'actor_31', 'actor_36', 'actor_38', 'actor_53', 'actor_54', 'actor_62', 'actor_65', 'actor_91', 'actor_39', 'actor_37', 'actor_30', 'actor_90', 'actor_64', 'actor_63', 'actor_55', 'actor_52']['03-01-02-01-02-16-03-03-01.wav', '03-02-08-01-06-16-03-03-01.wav', '03-01-05-02-07-16-03-03-01.wav', '03-01-02-01-13-16-03-03-01.wav', '03-01-02-01-05-16-03-03-01.wav', '03-01-05-02-06-16-03-03-01.wav', '03-01-04-01-05-16-03-03-01.wav', '03-01-05-02-09-16-03-03-01.wav', '03-01-02-01-04-16-03-03-01.wav', '03-01-04-01-02-16-03-03-01.wav', '03-01-05-01-03-16-03-03-01.wav', '03-01-02-01-06-16-03-03-01.wav', '03-01-02-01-01-16-03-03-01.wav', '03-01-04-01-02-16-03-03-01-01.wav', '03-02-04-01-01-16-03-03-01-34.wav', '03-01-04-01-01-16-03-03-01.wav', '03-01-04-01-02-16-03-03-01-03.wav', '03-01-04-01-01-16-03-03-01-02.wav', '03-02-04-01-02-16-03-03-01-34.wav', '03-01-02-01-07-16-03-03-01.wav']03-01-02-01-02-16-03-03-01.wav\""
      ]
     },
     "execution_count": 47,
     "metadata": {},
     "output_type": "execute_result"
    }
   ],
   "source": [
    "file_full_path[0]"
   ]
  },
  {
   "cell_type": "code",
   "execution_count": 14,
   "metadata": {},
   "outputs": [
    {
     "name": "stdout",
     "output_type": "stream",
     "text": [
      "<class 'pandas.core.frame.DataFrame'>\n",
      "RangeIndex: 3946 entries, 0 to 3945\n",
      "Data columns (total 3 columns):\n",
      " #   Column    Non-Null Count  Dtype \n",
      "---  ------    --------------  ----- \n",
      " 0   Emotions  3946 non-null   object\n",
      " 1   Folder    3946 non-null   object\n",
      " 2   Path      3946 non-null   object\n",
      "dtypes: object(3)\n",
      "memory usage: 92.6+ KB\n"
     ]
    }
   ],
   "source": [
    "asvp_metadata.info()"
   ]
  },
  {
   "cell_type": "code",
   "execution_count": 18,
   "metadata": {},
   "outputs": [
    {
     "data": {
      "text/plain": [
       "'/03-01-02-01-02-16-03-03-01.wav'"
      ]
     },
     "execution_count": 18,
     "metadata": {},
     "output_type": "execute_result"
    }
   ],
   "source": [
    "# Sanity check to make sure the Path Column contains the fill path \n",
    "asvp_metadata['Path'][0]"
   ]
  },
  {
   "cell_type": "markdown",
   "metadata": {},
   "source": [
    "# ASVP Data Visualization \n",
    "lets makes some visuals \n"
   ]
  },
  {
   "cell_type": "code",
   "execution_count": 19,
   "metadata": {},
   "outputs": [
    {
     "data": {
      "text/plain": [
       "neutral           1019\n",
       "angry              987\n",
       "happy              495\n",
       "sad                471\n",
       "surprised          327\n",
       "disappointment     241\n",
       "fearful            137\n",
       "disgust             93\n",
       "excited             92\n",
       "pain                36\n",
       "boredom             26\n",
       "pleasure            22\n",
       "Name: Emotions, dtype: int64"
      ]
     },
     "execution_count": 19,
     "metadata": {},
     "output_type": "execute_result"
    }
   ],
   "source": [
    "asvp_metadata['Emotions'].value_counts()"
   ]
  },
  {
   "cell_type": "code",
   "execution_count": 26,
   "metadata": {},
   "outputs": [
    {
     "name": "stderr",
     "output_type": "stream",
     "text": [
      "/Users/stephen/opt/anaconda3/envs/torch_env/lib/python3.9/site-packages/seaborn/_decorators.py:36: FutureWarning: Pass the following variable as a keyword arg: x. From version 0.12, the only valid positional argument will be `data`, and passing other arguments without an explicit keyword will result in an error or misinterpretation.\n",
      "  warnings.warn(\n"
     ]
    },
    {
     "data": {
      "image/png": "[encoded data removed]",
      "text/plain": [
       "<Figure size 432x288 with 1 Axes>"
      ]
     },
     "metadata": {
      "needs_background": "light"
     },
     "output_type": "display_data"
    }
   ],
   "source": [
    "plt.title('Count of Emotions', size=20)\n",
    "sns.countplot(asvp_metadata.Emotions)\n",
    "plt.ylabel('Count', size=12)\n",
    "plt.xlabel('Emotions', size=12)\n",
    "sns.despine(top=True, right=True, left=False, bottom=False)\n",
    "plt.show()"
   ]
  },
  {
   "cell_type": "code",
   "execution_count": null,
   "metadata": {},
   "outputs": [],
   "source": []
  }
 ],
 "metadata": {
  "interpreter": {
   "hash": "f3358073929bd3d27ff594bc6528257efc4213b34ba9d7c6bd240dce3a23a83d"
  },
  "kernelspec": {
   "display_name": "Python 3.9.7 64-bit ('torch_env': conda)",
   "language": "python",
   "name": "python3"
  },
  "language_info": {
   "codemirror_mode": {
    "name": "ipython",
    "version": 3
   },
   "file_extension": ".py",
   "mimetype": "text/x-python",
   "name": "python",
   "nbconvert_exporter": "python",
   "pygments_lexer": "ipython3",
   "version": "3.9.7"
  },
  "orig_nbformat": 4
 },
 "nbformat": 4,
 "nbformat_minor": 2
}
