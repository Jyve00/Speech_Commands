{
 "cells": [
  {
   "cell_type": "code",
   "execution_count": 16,
   "metadata": {
    "ExecuteTime": {
     "end_time": "2021-12-20T16:42:41.833348Z",
     "start_time": "2021-12-20T16:42:41.823053Z"
    }
   },
   "outputs": [],
   "source": [
    "#Import Packages\n",
    "import speech_recognition as sr  \n",
    "import playsound # to play saved mp3 file \n",
    "from gtts import gTTS # google text to speech \n",
    "import os # to save/open files \n",
    "import wolframalpha # to calculate strings into formula \n",
    "from selenium import webdriver # to control browser operations \n",
    "import subprocess\n",
    "from elasticsearch import Elasticsearch\n",
    "from elasticsearch.helpers import bulk"
   ]
  },
  {
   "cell_type": "code",
   "execution_count": 9,
   "metadata": {
    "ExecuteTime": {
     "end_time": "2021-12-20T16:39:15.947034Z",
     "start_time": "2021-12-20T16:39:15.841937Z"
    }
   },
   "outputs": [
    {
     "name": "stdout",
     "output_type": "stream",
     "text": [
      "['FullHD TV', 'USB3 TO HDMI', 'BlackHole 16ch', 'MacBook Pro Microphone', 'MacBook Pro Speakers', 'Reincubate', 'EpocCam Microphone', 'Aggregate Device']\n"
     ]
    }
   ],
   "source": [
    "print(sr.Microphone.list_microphone_names())"
   ]
  },
  {
   "cell_type": "code",
   "execution_count": 15,
   "metadata": {
    "ExecuteTime": {
     "end_time": "2021-12-20T16:48:11.242320Z",
     "start_time": "2021-12-20T16:48:11.219804Z"
    }
   },
   "outputs": [],
   "source": [
    "# create lists of applications \n",
    "# list the directory and remove the extension\n",
    "d = '/Applications'\n",
    "#apps = list(map(lambda x: x.split('.app')[0], os.listdir(d)))\n",
    "records = []\n",
    "apps = os.listdir(d)\n",
    "\n",
    "for app in apps:\n",
    "    record = {}\n",
    "    record['voice_command'] = 'open ' + app.split('.app')[0]\n",
    "    record['sys_command'] = 'open ' + d +'/%s' %app.replace(' ','\\ ')\n",
    "    records.append(record)"
   ]
  },
  {
   "cell_type": "code",
   "execution_count": null,
   "metadata": {
    "ExecuteTime": {
     "end_time": "2021-12-20T16:39:17.457035Z",
     "start_time": "2021-12-20T16:39:17.453597Z"
    }
   },
   "outputs": [],
   "source": [
    "#Saving the text to audio files\n",
    "num = 1\n",
    "def assistant_speaks(output): \n",
    "    global num \n",
    "  \n",
    "    # num to rename every audio file  \n",
    "    # with different name to remove ambiguity \n",
    "    num += 1\n",
    "    print(\"PerSon : \", output) \n",
    "  \n",
    "    toSpeak = gTTS(text = output, lang ='en', slow = False) \n",
    "    # saving the audio file given by google text to speech \n",
    "    file = \"/Users/stephen/Speech_Commands/\"+str(num)+\".mp3\"  \n",
    "    toSpeak.save(file) \n",
    "      \n",
    "    # playsound package is used to play the same file. \n",
    "    playsound.playsound(file, True)  \n",
    "    os.remove(file) \n"
   ]
  },
  {
   "cell_type": "code",
   "execution_count": null,
   "metadata": {
    "ExecuteTime": {
     "end_time": "2021-12-20T16:39:18.349939Z",
     "start_time": "2021-12-20T16:39:18.346249Z"
    }
   },
   "outputs": [],
   "source": [
    "#get audio file and return as function oUTPUT\n",
    "def get_audio(): \n",
    "  \n",
    "    rObject = sr.Recognizer() \n",
    "    mic = sr.Microphone(device_index=3)\n",
    "    audio = '' \n",
    "  \n",
    "    with mic as source: \n",
    "        print(\"Speak...\") \n",
    "          \n",
    "        # recording the audio using speech recognition \n",
    "        audio = rObject.listen(source, phrase_time_limit = 5)  \n",
    "    print(\"Stop.\") # limit 5 secs \n",
    "  \n",
    "    try: \n",
    "  \n",
    "        text = rObject.recognize_google(audio, language ='en-US') \n",
    "        print(\"You : \", text) \n",
    "        return text \n",
    "  \n",
    "    except: \n",
    "  \n",
    "        assistant_speaks(\"Could not understand your audio, PLease try again !\") \n",
    "        return 0"
   ]
  },
  {
   "cell_type": "code",
   "execution_count": null,
   "metadata": {
    "ExecuteTime": {
     "end_time": "2021-12-20T16:39:38.604112Z",
     "start_time": "2021-12-20T16:39:19.592039Z"
    }
   },
   "outputs": [],
   "source": [
    "#Write a main Function\n",
    "# Driver Code \n",
    "if __name__ == \"__main__\": \n",
    "    assistant_speaks(\"What's your name, Human?\") \n",
    "    name ='Human'\n",
    "    name = get_audio() \n",
    "    assistant_speaks(\"Hello, \" + name + '.') \n",
    "      \n",
    "    while(1): \n",
    "  \n",
    "        assistant_speaks(\"What can i do for you?\") \n",
    "        text = get_audio().lower() \n",
    "  \n",
    "        if text == 0: \n",
    "            continue\n",
    "  \n",
    "        if \"exit\" in str(text) or \"bye\" in str(text) or \"sleep\" in str(text): \n",
    "            assistant_speaks(\"Ok bye, \"+ name+'.') \n",
    "            break\n",
    "  \n",
    "        # calling process text to process the query \n",
    "        process_text(text) "
   ]
  },
  {
   "cell_type": "code",
   "execution_count": null,
   "metadata": {
    "ExecuteTime": {
     "end_time": "2021-12-20T16:46:15.701106Z",
     "start_time": "2021-12-20T16:45:40.207815Z"
    }
   },
   "outputs": [],
   "source": []
  },
  {
   "cell_type": "code",
   "execution_count": null,
   "metadata": {},
   "outputs": [],
   "source": []
  }
 ],
 "metadata": {
  "kernelspec": {
   "display_name": "Python 3 (ipykernel)",
   "language": "python",
   "name": "python3"
  },
  "language_info": {
   "codemirror_mode": {
    "name": "ipython",
    "version": 3
   },
   "file_extension": ".py",
   "mimetype": "text/x-python",
   "name": "python",
   "nbconvert_exporter": "python",
   "pygments_lexer": "ipython3",
   "version": "3.9.7"
  }
 },
 "nbformat": 4,
 "nbformat_minor": 2
}
