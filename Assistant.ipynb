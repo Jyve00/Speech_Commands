{
 "cells": [
  {
   "cell_type": "code",
   "execution_count": null,
   "metadata": {
    "ExecuteTime": {
     "start_time": "2021-12-21T16:20:57.113Z"
    }
   },
   "outputs": [],
   "source": []
  },
  {
   "cell_type": "code",
   "execution_count": 7,
   "metadata": {
    "ExecuteTime": {
     "end_time": "2021-12-21T16:16:58.094503Z",
     "start_time": "2021-12-21T16:16:58.065594Z"
    }
   },
   "outputs": [],
   "source": [
    "#Import Packages\n",
    "import speech_recognition as sr  \n",
    "import playsound # to play saved mp3 file \n",
    "from gtts import gTTS # google text to speech \n",
    "import os # to save/open files \n",
    "import wolframalpha # to calculate strings into formula \n",
    "from selenium import webdriver # to control browser operations \n",
    "import pyaudio # voice engine \n"
   ]
  },
  {
   "cell_type": "code",
   "execution_count": 12,
   "metadata": {},
   "outputs": [],
   "source": [
    "r = sr.Recognizer()\n"
   ]
  },
  {
   "cell_type": "code",
   "execution_count": 9,
   "metadata": {},
   "outputs": [
    {
     "ename": "TypeError",
     "evalue": "recognize_google() missing 1 required positional argument: 'audio_data'",
     "output_type": "error",
     "traceback": [
      "\u001b[0;31m---------------------------------------------------------------------------\u001b[0m",
      "\u001b[0;31mTypeError\u001b[0m                                 Traceback (most recent call last)",
      "\u001b[0;32m/var/folders/m3/ywsrz7k170vbk8511l1h_6840000gn/T/ipykernel_66207/602826600.py\u001b[0m in \u001b[0;36m<module>\u001b[0;34m\u001b[0m\n\u001b[0;32m----> 1\u001b[0;31m \u001b[0mr\u001b[0m\u001b[0;34m.\u001b[0m\u001b[0mrecognize_google\u001b[0m\u001b[0;34m(\u001b[0m\u001b[0;34m)\u001b[0m\u001b[0;34m\u001b[0m\u001b[0;34m\u001b[0m\u001b[0m\n\u001b[0m",
      "\u001b[0;31mTypeError\u001b[0m: recognize_google() missing 1 required positional argument: 'audio_data'"
     ]
    }
   ],
   "source": [
    "r.recognize_google()"
   ]
  },
  {
   "cell_type": "code",
   "execution_count": null,
   "metadata": {},
   "outputs": [],
   "source": []
  },
  {
   "cell_type": "code",
   "execution_count": null,
   "metadata": {},
   "outputs": [],
   "source": []
  },
  {
   "cell_type": "code",
   "execution_count": null,
   "metadata": {},
   "outputs": [],
   "source": []
  },
  {
   "cell_type": "code",
   "execution_count": null,
   "metadata": {},
   "outputs": [],
   "source": []
  },
  {
   "cell_type": "code",
   "execution_count": null,
   "metadata": {},
   "outputs": [],
   "source": []
  },
  {
   "cell_type": "code",
   "execution_count": null,
   "metadata": {},
   "outputs": [],
   "source": []
  },
  {
   "cell_type": "code",
   "execution_count": null,
   "metadata": {},
   "outputs": [],
   "source": []
  },
  {
   "cell_type": "code",
   "execution_count": null,
   "metadata": {},
   "outputs": [],
   "source": []
  },
  {
   "cell_type": "code",
   "execution_count": null,
   "metadata": {
    "ExecuteTime": {
     "end_time": "2021-12-20T16:39:18.349939Z",
     "start_time": "2021-12-20T16:39:18.346249Z"
    }
   },
   "outputs": [],
   "source": [
    "#get audio file and return as function oUTPUT\n",
    "def get_audio(): \n",
    "  \n",
    "    r = sr.Recognizer() \n",
    "    mic = sr.Microphone(device_index=3) # macbook built-in mic \n",
    "    audio = '' \n",
    "  \n",
    "    with mic as source: \n",
    "        print(\"Speak...\") \n",
    "        # recording the audio using speech recognition \n",
    "        audio = r.listen(source, phrase_time_limit = 5)  # capture audio from mic for 5 seconds saved as string \n",
    "    print(\"Stop.\") # limit 5 secs \n",
    "  \n",
    "    try: \n",
    "        text = r.recognize_google(audio, language ='en-US') \n",
    "        print(\"You : \", text) \n",
    "        return text \n",
    "  \n",
    "    except: \n",
    "  \n",
    "        assistant_speaks(\"Could not understand your audio, PLease try again !\") \n",
    "        return 0"
   ]
  },
  {
   "cell_type": "code",
   "execution_count": null,
   "metadata": {
    "ExecuteTime": {
     "end_time": "2021-12-20T16:39:38.604112Z",
     "start_time": "2021-12-20T16:39:19.592039Z"
    }
   },
   "outputs": [],
   "source": [
    "#Write a main Function\n",
    "# Driver Code \n",
    "if __name__ == \"__main__\": \n",
    "    assistant_speaks(\"What's your name, Human?\") \n",
    "    name ='Human'\n",
    "    name = get_audio() \n",
    "    assistant_speaks(\"Hello, \" + name + '.') \n",
    "      \n",
    "    while(1): \n",
    "  \n",
    "        assistant_speaks(\"What can i do for you?\") \n",
    "        text = get_audio().lower() \n",
    "  \n",
    "        if text == 0: \n",
    "            continue\n",
    "  \n",
    "        if \"exit\" in str(text) or \"bye\" in str(text) or \"sleep\" in str(text): \n",
    "            assistant_speaks(\"Ok bye, \"+ name+'.') \n",
    "            break\n",
    "  \n",
    "        # calling process text to process the query \n",
    "        process_text(text) "
   ]
  },
  {
   "cell_type": "code",
   "execution_count": null,
   "metadata": {
    "ExecuteTime": {
     "end_time": "2021-12-20T16:46:15.701106Z",
     "start_time": "2021-12-20T16:45:40.207815Z"
    }
   },
   "outputs": [],
   "source": [
    "#Saving the text to audio files\n",
    "num = 1\n",
    "def assistant_speaks(output): \n",
    "    global num \n",
    "  \n",
    "    # num to rename every audio file  \n",
    "    # with different name to remove ambiguity \n",
    "    num += 1\n",
    "    print(\"PerSon : \", output) \n",
    "  \n",
    "    toSpeak = gTTS(text = output, lang ='en', slow = False) \n",
    "    # saving the audio file given by google text to speech \n",
    "    file = \"/Users/stephen/Speech_Commands/\"+str(num)+\".mp3\"  \n",
    "    toSpeak.save(file) \n",
    "      \n",
    "    # playsound package is used to play the same file. \n",
    "    playsound.playsound(file, True)  \n",
    "    os.remove(file) "
   ]
  },
  {
   "cell_type": "code",
   "execution_count": 6,
   "metadata": {},
   "outputs": [
    {
     "data": {
      "text/plain": [
       "'3.7.1'"
      ]
     },
     "execution_count": 6,
     "metadata": {},
     "output_type": "execute_result"
    }
   ],
   "source": []
  },
  {
   "cell_type": "code",
   "execution_count": null,
   "metadata": {},
   "outputs": [],
   "source": []
  }
 ],
 "metadata": {
  "kernelspec": {
   "display_name": "Python 3",
   "language": "python",
   "name": "python3"
  },
  "language_info": {
   "codemirror_mode": {
    "name": "ipython",
    "version": 3
   },
   "file_extension": ".py",
   "mimetype": "text/x-python",
   "name": "python",
   "nbconvert_exporter": "python",
   "pygments_lexer": "ipython3",
   "version": "3.9.7"
  }
 },
 "nbformat": 4,
 "nbformat_minor": 2
}
