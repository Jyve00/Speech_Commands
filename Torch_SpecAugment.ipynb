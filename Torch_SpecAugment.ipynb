{
 "cells": [
  {
   "cell_type": "markdown",
   "metadata": {},
   "source": [
    "# PyTorch SpecAugment\n",
    "This notebook will demonstrate techniques described in this paper by Google on using Data Augmentation for Automatic Speech Recognition. \n",
    "https://ai.googleblog.com/2019/04/specaugment-new-data-augmentation.html"
   ]
  },
  {
   "cell_type": "code",
   "execution_count": 1,
   "metadata": {},
   "outputs": [],
   "source": [
    "import numpy as np \n",
    "import pandas as pd\n",
    "import os \n",
    "import math\n",
    "import torch \n",
    "import torchaudio \n",
    "from torch.utils.data import Dataset, dataloader\n",
    "import matplotlib.pyplot as plt \n",
    "#%matplotlib_inline\n",
    "import seaborn as sns\n",
    "import librosa \n",
    "import librosa.display\n",
    "\n",
    "import IPython.display as ipd"
   ]
  },
  {
   "cell_type": "code",
   "execution_count": 4,
   "metadata": {},
   "outputs": [],
   "source": [
    "metadata = pd.read_csv('/Users/stephen/Desktop/Speech_Commands/Data/ASVP-ESD_UPDATE/metadata.csv')\n",
    "audio_dir = '/Users/stephen/Desktop/Speech_Commands/Data/ASVP-ESD_UPDATE/Audio'"
   ]
  },
  {
   "cell_type": "code",
   "execution_count": 5,
   "metadata": {},
   "outputs": [
    {
     "data": {
      "text/html": [
       "<div>\n",
       "<style scoped>\n",
       "    .dataframe tbody tr th:only-of-type {\n",
       "        vertical-align: middle;\n",
       "    }\n",
       "\n",
       "    .dataframe tbody tr th {\n",
       "        vertical-align: top;\n",
       "    }\n",
       "\n",
       "    .dataframe thead th {\n",
       "        text-align: right;\n",
       "    }\n",
       "</style>\n",
       "<table border=\"1\" class=\"dataframe\">\n",
       "  <thead>\n",
       "    <tr style=\"text-align: right;\">\n",
       "      <th></th>\n",
       "      <th>Emotions</th>\n",
       "      <th>Path</th>\n",
       "      <th>Folder</th>\n",
       "    </tr>\n",
       "  </thead>\n",
       "  <tbody>\n",
       "    <tr>\n",
       "      <th>0</th>\n",
       "      <td>neutral</td>\n",
       "      <td>/03-01-02-01-02-16-03-03-01.wav</td>\n",
       "      <td>actor_16</td>\n",
       "    </tr>\n",
       "    <tr>\n",
       "      <th>1</th>\n",
       "      <td>angry</td>\n",
       "      <td>/03-01-05-02-07-16-03-03-01.wav</td>\n",
       "      <td>actor_16</td>\n",
       "    </tr>\n",
       "    <tr>\n",
       "      <th>2</th>\n",
       "      <td>neutral</td>\n",
       "      <td>/03-01-02-01-13-16-03-03-01.wav</td>\n",
       "      <td>actor_16</td>\n",
       "    </tr>\n",
       "    <tr>\n",
       "      <th>3</th>\n",
       "      <td>neutral</td>\n",
       "      <td>/03-01-02-01-05-16-03-03-01.wav</td>\n",
       "      <td>actor_16</td>\n",
       "    </tr>\n",
       "    <tr>\n",
       "      <th>4</th>\n",
       "      <td>angry</td>\n",
       "      <td>/03-01-05-02-06-16-03-03-01.wav</td>\n",
       "      <td>actor_16</td>\n",
       "    </tr>\n",
       "  </tbody>\n",
       "</table>\n",
       "</div>"
      ],
      "text/plain": [
       "  Emotions                             Path    Folder\n",
       "0  neutral  /03-01-02-01-02-16-03-03-01.wav  actor_16\n",
       "1    angry  /03-01-05-02-07-16-03-03-01.wav  actor_16\n",
       "2  neutral  /03-01-02-01-13-16-03-03-01.wav  actor_16\n",
       "3  neutral  /03-01-02-01-05-16-03-03-01.wav  actor_16\n",
       "4    angry  /03-01-05-02-06-16-03-03-01.wav  actor_16"
      ]
     },
     "execution_count": 5,
     "metadata": {},
     "output_type": "execute_result"
    }
   ],
   "source": [
    "metadata.head()"
   ]
  },
  {
   "cell_type": "code",
   "execution_count": null,
   "metadata": {},
   "outputs": [],
   "source": [
    "# Pytorch Dataset class \n",
    "\n",
    "class EmotionalSpeechDataset(Dataset):\n",
    "    # constructor \n",
    "    def __init__(self, annotations_file, audio_dir, target_sample_rate, num_samples, device, transformation=None): \n",
    "        self.annotations_file = annotations_file\n",
    "        self.audio_dir = audio_dir \n",
    "        self.target_sample_rate = target_sample_rate\n",
    "        self.num_samples = num_samples \n",
    "        self.device = device \n",
    "        self.transformation = transformation\n",
    "\n",
    "    def __len__(self):\n",
    "        return len(self.annotations_file)\n",
    "\n",
    "    def __getitem__(self, index):\n",
    "        audio_sample_path = self._get_audio_sample_path(index)\n",
    "        label = self._get_audio_sample_label(index)\n",
    "        signal, sr = torchaudio.load(audio_sample_path)\n",
    "        signal = signal.to(self.device)\n",
    "        signal = self._resample_if_necessary(signal, sr)\n",
    "        signal = self._mix_down_if_necessary(signal)\n",
    "        signal = self._cut_if_necessary(signal)\n",
    "        signal = self._right_pad_if_necessary(signal)\n",
    "\n",
    "        # if a transformation is stated, apply to audio tensor \n",
    "        if self.transformation: \n",
    "            signal = self.transformation(signal).to(self.device)\n",
    "        return signal, label \n",
    "\n",
    "    def _cut_if_necessary(self, signal):\n",
    "        if signal.shape[1] > self.num_samples:\n",
    "            signal = signal[:, :self.num_samples]\n",
    "        return signal \n",
    "\n",
    "    def _right_pad_if_necessary(self, signal): \n",
    "        length_signal = signal.shape[1]\n",
    "        if length_signal < self.num_samples:    # compare each file with desired length \n",
    "            num_missing_samples = self.num_samples - length_signal \n",
    "            last_dim_padding = (0, num_missing_samples)\n",
    "            signal = torch.nn.functional.pad(signal, last_dim_padding)\n",
    "        return signal \n",
    "\n",
    "    def _resample_if_necessary(self, signal, sr):\n",
    "        if sr != self.target_sample_rate:\n",
    "            resampler = torchaudio.transforms.Resample(sr, self.target_sample_rate)\n",
    "            signal = resampler(signal)\n",
    "        return signal \n",
    "\n",
    "    def _mix_down_if_necessary(self, signal):  # if file is Stereo, convert to mono by using the mean \n",
    "        if signal.shape[0] > 1:\n",
    "            signal = torch.mean(signal, dim=0, keepdim=True)\n",
    "        return signal \n",
    "\n",
    "    def _get_audio_sample_path(self, index):\n",
    "        #fold = f\"fold{self.annotations.iloc[index, 2]}\"    # grab from \"Folder\" column \n",
    "        #path = os.path.join(self.audio_dir, fold, self.annotations_file.iloc[index, 1]) # combine to make full PATH\n",
    "        fold = self.annotations_file.iloc[index, 2]\n",
    "        path = os.path.join(self.audio_dir + fold + self.annotations_file.iloc[index, 1])\n",
    "        return path \n",
    "    \n",
    "    def _get_audio_sample_label(self, index):\n",
    "        return self.annotations_file.iloc[index, 0]  # grab from \"label\" column  \n",
    "\n"
   ]
  }
 ],
 "metadata": {
  "interpreter": {
   "hash": "f3358073929bd3d27ff594bc6528257efc4213b34ba9d7c6bd240dce3a23a83d"
  },
  "kernelspec": {
   "display_name": "Python 3.9.7 64-bit ('torch_env': conda)",
   "language": "python",
   "name": "python3"
  },
  "language_info": {
   "codemirror_mode": {
    "name": "ipython",
    "version": 3
   },
   "file_extension": ".py",
   "mimetype": "text/x-python",
   "name": "python",
   "nbconvert_exporter": "python",
   "pygments_lexer": "ipython3",
   "version": "3.9.7"
  },
  "orig_nbformat": 4
 },
 "nbformat": 4,
 "nbformat_minor": 2
}
